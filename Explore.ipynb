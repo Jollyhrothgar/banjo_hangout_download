{
 "cells": [
  {
   "cell_type": "code",
   "execution_count": 1,
   "id": "efcfa375-ecf0-48a4-8dc1-ad6debf1a9c1",
   "metadata": {},
   "outputs": [],
   "source": [
    "import json\n",
    "import pandas as pd\n",
    "import matplotlib.pyplot as plt\n",
    "import numpy as np\n",
    "import re\n",
    "\n",
    "plt.rcParams['figure.figsize'] = (10, 6.5)\n",
    "plt.rcParams['figure.dpi'] = 100\n",
    "plt.rcParams['xtick.labelsize'] = 16\n",
    "plt.rcParams['ytick.labelsize'] = 16\n",
    "plt.rcParams['font.size'] = 20\n",
    "plt.rcParams['lines.linewidth'] = 3"
   ]
  },
  {
   "cell_type": "code",
   "execution_count": 2,
   "id": "019e5194-62b9-48c3-9bfc-6cba19c0b108",
   "metadata": {},
   "outputs": [],
   "source": [
    "with open('./lists/parsed.json', 'r') as f:\n",
    "    download_list = json.load(f)"
   ]
  },
  {
   "cell_type": "code",
   "execution_count": 4,
   "id": "e0fb5a78-1516-49e2-bbf9-2c24724c489a",
   "metadata": {},
   "outputs": [],
   "source": [
    "tabs = pd.DataFrame.from_records(download_list)"
   ]
  },
  {
   "cell_type": "code",
   "execution_count": 5,
   "id": "63f382b9-aa51-463a-9f94-2f12f542e1b6",
   "metadata": {},
   "outputs": [
    {
     "data": {
      "text/html": [
       "<div>\n",
       "<style scoped>\n",
       "    .dataframe tbody tr th:only-of-type {\n",
       "        vertical-align: middle;\n",
       "    }\n",
       "\n",
       "    .dataframe tbody tr th {\n",
       "        vertical-align: top;\n",
       "    }\n",
       "\n",
       "    .dataframe thead th {\n",
       "        text-align: right;\n",
       "    }\n",
       "</style>\n",
       "<table border=\"1\" class=\"dataframe\">\n",
       "  <thead>\n",
       "    <tr style=\"text-align: right;\">\n",
       "      <th></th>\n",
       "      <th>filename</th>\n",
       "      <th>title</th>\n",
       "      <th>key</th>\n",
       "      <th>genre</th>\n",
       "      <th>style</th>\n",
       "      <th>tuning</th>\n",
       "      <th>difficulty</th>\n",
       "      <th>link</th>\n",
       "      <th>search_str</th>\n",
       "      <th>search_html</th>\n",
       "    </tr>\n",
       "  </thead>\n",
       "  <tbody>\n",
       "    <tr>\n",
       "      <th>0</th>\n",
       "      <td>./data/http_cache/10.html</td>\n",
       "      <td>J'attendrai</td>\n",
       "      <td>C</td>\n",
       "      <td>Jazz</td>\n",
       "      <td>Bluegrass (Scruggs)</td>\n",
       "      <td>Standard Open G (gDGBD)</td>\n",
       "      <td>Expert</td>\n",
       "      <td>https://www.hangoutstorage.com/banjohangout.or...</td>\n",
       "      <td>J'attendraiGenre: Jazz  Style: Bluegrass (Scru...</td>\n",
       "      <td>&lt;div class=\"row zebra rowPadded\"&gt; &lt;div class=\"...</td>\n",
       "    </tr>\n",
       "    <tr>\n",
       "      <th>1</th>\n",
       "      <td>./data/http_cache/10.html</td>\n",
       "      <td>J&amp;W Rag</td>\n",
       "      <td>C</td>\n",
       "      <td>Bluegrass</td>\n",
       "      <td>Unknown/None Chosen</td>\n",
       "      <td>Standard Open G (gDGBD)</td>\n",
       "      <td>Intermediate</td>\n",
       "      <td>https://www.hangoutstorage.com/banjohangout.or...</td>\n",
       "      <td>J&amp;W RagGenre: Bluegrass  Style: Unknown/None C...</td>\n",
       "      <td>&lt;div class=\"row zebra rowPadded\"&gt; &lt;div class=\"...</td>\n",
       "    </tr>\n",
       "    <tr>\n",
       "      <th>2</th>\n",
       "      <td>./data/http_cache/10.html</td>\n",
       "      <td>J.S. Bach Cello Suite 1 Allemande</td>\n",
       "      <td>G</td>\n",
       "      <td>Classical</td>\n",
       "      <td>Classical</td>\n",
       "      <td>Standard Open G (gDGBD)</td>\n",
       "      <td>Expert</td>\n",
       "      <td>error</td>\n",
       "      <td>J.S. Bach Cello Suite 1 AllemandeGenre: Classi...</td>\n",
       "      <td>&lt;div class=\"row zebra rowPadded\"&gt; &lt;div class=\"...</td>\n",
       "    </tr>\n",
       "    <tr>\n",
       "      <th>3</th>\n",
       "      <td>./data/http_cache/10.html</td>\n",
       "      <td>Jack of the Wood (Jens Kruger)</td>\n",
       "      <td>C</td>\n",
       "      <td>Bluegrass</td>\n",
       "      <td>Bluegrass (Scruggs)</td>\n",
       "      <td>Double C (gCGCD)</td>\n",
       "      <td>Expert</td>\n",
       "      <td>https://www.hangoutstorage.com/banjohangout.or...</td>\n",
       "      <td>Jack of the Wood (Jens Kruger)Genre: Bluegrass...</td>\n",
       "      <td>&lt;div class=\"row zebra rowPadded\"&gt; &lt;div class=\"...</td>\n",
       "    </tr>\n",
       "    <tr>\n",
       "      <th>4</th>\n",
       "      <td>./data/http_cache/10.html</td>\n",
       "      <td>Jack's the Lad (Sailors Hornpipe)</td>\n",
       "      <td>G</td>\n",
       "      <td>Bluegrass</td>\n",
       "      <td>Bluegrass (Scruggs)</td>\n",
       "      <td>Standard Open G (gDGBD)</td>\n",
       "      <td>Intermediate</td>\n",
       "      <td>error</td>\n",
       "      <td>Jack's the Lad (Sailors Hornpipe)Genre: Bluegr...</td>\n",
       "      <td>&lt;div class=\"row zebra rowPadded\"&gt; &lt;div class=\"...</td>\n",
       "    </tr>\n",
       "    <tr>\n",
       "      <th>...</th>\n",
       "      <td>...</td>\n",
       "      <td>...</td>\n",
       "      <td>...</td>\n",
       "      <td>...</td>\n",
       "      <td>...</td>\n",
       "      <td>...</td>\n",
       "      <td>...</td>\n",
       "      <td>...</td>\n",
       "      <td>...</td>\n",
       "      <td>...</td>\n",
       "    </tr>\n",
       "    <tr>\n",
       "      <th>4606</th>\n",
       "      <td>./data/http_cache/23.html</td>\n",
       "      <td>Quadrill</td>\n",
       "      <td>error</td>\n",
       "      <td>Old Time</td>\n",
       "      <td>Clawhammer and Old-Time</td>\n",
       "      <td>error</td>\n",
       "      <td>error</td>\n",
       "      <td>error</td>\n",
       "      <td>QuadrillGenre: Old Time  Style: Clawhammer and...</td>\n",
       "      <td>&lt;div class=\"row zebra rowPadded\"&gt; &lt;div class=\"...</td>\n",
       "    </tr>\n",
       "    <tr>\n",
       "      <th>4607</th>\n",
       "      <td>./data/http_cache/23.html</td>\n",
       "      <td>Quadrille (Canadian ?)</td>\n",
       "      <td>error</td>\n",
       "      <td>Old Time</td>\n",
       "      <td>Clawhammer and Old-Time</td>\n",
       "      <td>error</td>\n",
       "      <td>error</td>\n",
       "      <td>error</td>\n",
       "      <td>Quadrille (Canadian ?)Genre: Old Time  Style: ...</td>\n",
       "      <td>&lt;div class=\"row zebra rowPadded\"&gt; &lt;div class=\"...</td>\n",
       "    </tr>\n",
       "    <tr>\n",
       "      <th>4608</th>\n",
       "      <td>./data/http_cache/23.html</td>\n",
       "      <td>Quince Dillon's High D</td>\n",
       "      <td>D</td>\n",
       "      <td>Old Time</td>\n",
       "      <td>Clawhammer and Old-Time</td>\n",
       "      <td>Drop C (gCGBD)</td>\n",
       "      <td>Intermediate</td>\n",
       "      <td>https://www.hangoutstorage.com/banjohangout.or...</td>\n",
       "      <td>Quince Dillon's High DGenre: Old Time  Style: ...</td>\n",
       "      <td>&lt;div class=\"row zebra rowPadded\"&gt; &lt;div class=\"...</td>\n",
       "    </tr>\n",
       "    <tr>\n",
       "      <th>4609</th>\n",
       "      <td>./data/http_cache/23.html</td>\n",
       "      <td>Quince Dillon's High D Tune</td>\n",
       "      <td>D  Difficulty: IntermediatePosted by carlb, up...</td>\n",
       "      <td>Old Time</td>\n",
       "      <td>Clawhammer and Old-Time</td>\n",
       "      <td>error</td>\n",
       "      <td>Intermediate</td>\n",
       "      <td>error</td>\n",
       "      <td>Quince Dillon's High D TuneGenre: Old Time  St...</td>\n",
       "      <td>&lt;div class=\"row zebra rowPadded\"&gt; &lt;div class=\"...</td>\n",
       "    </tr>\n",
       "    <tr>\n",
       "      <th>4610</th>\n",
       "      <td>./data/http_cache/23.html</td>\n",
       "      <td>Quinn's Quickstep</td>\n",
       "      <td>C</td>\n",
       "      <td>Bluegrass</td>\n",
       "      <td>Bluegrass (Scruggs)</td>\n",
       "      <td>Drop C (gCGBD)</td>\n",
       "      <td>Intermediate</td>\n",
       "      <td>https://www.hangoutstorage.com/banjohangout.or...</td>\n",
       "      <td>Quinn's QuickstepGenre: Bluegrass  Style: Blue...</td>\n",
       "      <td>&lt;div class=\"row zebra rowPadded\"&gt; &lt;div class=\"...</td>\n",
       "    </tr>\n",
       "  </tbody>\n",
       "</table>\n",
       "<p>4611 rows × 10 columns</p>\n",
       "</div>"
      ],
      "text/plain": [
       "                       filename                              title  \\\n",
       "0     ./data/http_cache/10.html                        J'attendrai   \n",
       "1     ./data/http_cache/10.html                            J&W Rag   \n",
       "2     ./data/http_cache/10.html  J.S. Bach Cello Suite 1 Allemande   \n",
       "3     ./data/http_cache/10.html     Jack of the Wood (Jens Kruger)   \n",
       "4     ./data/http_cache/10.html  Jack's the Lad (Sailors Hornpipe)   \n",
       "...                         ...                                ...   \n",
       "4606  ./data/http_cache/23.html                           Quadrill   \n",
       "4607  ./data/http_cache/23.html             Quadrille (Canadian ?)   \n",
       "4608  ./data/http_cache/23.html             Quince Dillon's High D   \n",
       "4609  ./data/http_cache/23.html        Quince Dillon's High D Tune   \n",
       "4610  ./data/http_cache/23.html                  Quinn's Quickstep   \n",
       "\n",
       "                                                    key      genre  \\\n",
       "0                                                     C       Jazz   \n",
       "1                                                     C  Bluegrass   \n",
       "2                                                     G  Classical   \n",
       "3                                                     C  Bluegrass   \n",
       "4                                                     G  Bluegrass   \n",
       "...                                                 ...        ...   \n",
       "4606                                              error   Old Time   \n",
       "4607                                              error   Old Time   \n",
       "4608                                                  D   Old Time   \n",
       "4609  D  Difficulty: IntermediatePosted by carlb, up...   Old Time   \n",
       "4610                                                  C  Bluegrass   \n",
       "\n",
       "                        style                   tuning    difficulty  \\\n",
       "0         Bluegrass (Scruggs)  Standard Open G (gDGBD)        Expert   \n",
       "1         Unknown/None Chosen  Standard Open G (gDGBD)  Intermediate   \n",
       "2                   Classical  Standard Open G (gDGBD)        Expert   \n",
       "3         Bluegrass (Scruggs)         Double C (gCGCD)        Expert   \n",
       "4         Bluegrass (Scruggs)  Standard Open G (gDGBD)  Intermediate   \n",
       "...                       ...                      ...           ...   \n",
       "4606  Clawhammer and Old-Time                    error         error   \n",
       "4607  Clawhammer and Old-Time                    error         error   \n",
       "4608  Clawhammer and Old-Time           Drop C (gCGBD)  Intermediate   \n",
       "4609  Clawhammer and Old-Time                    error  Intermediate   \n",
       "4610      Bluegrass (Scruggs)           Drop C (gCGBD)  Intermediate   \n",
       "\n",
       "                                                   link  \\\n",
       "0     https://www.hangoutstorage.com/banjohangout.or...   \n",
       "1     https://www.hangoutstorage.com/banjohangout.or...   \n",
       "2                                                 error   \n",
       "3     https://www.hangoutstorage.com/banjohangout.or...   \n",
       "4                                                 error   \n",
       "...                                                 ...   \n",
       "4606                                              error   \n",
       "4607                                              error   \n",
       "4608  https://www.hangoutstorage.com/banjohangout.or...   \n",
       "4609                                              error   \n",
       "4610  https://www.hangoutstorage.com/banjohangout.or...   \n",
       "\n",
       "                                             search_str  \\\n",
       "0     J'attendraiGenre: Jazz  Style: Bluegrass (Scru...   \n",
       "1     J&W RagGenre: Bluegrass  Style: Unknown/None C...   \n",
       "2     J.S. Bach Cello Suite 1 AllemandeGenre: Classi...   \n",
       "3     Jack of the Wood (Jens Kruger)Genre: Bluegrass...   \n",
       "4     Jack's the Lad (Sailors Hornpipe)Genre: Bluegr...   \n",
       "...                                                 ...   \n",
       "4606  QuadrillGenre: Old Time  Style: Clawhammer and...   \n",
       "4607  Quadrille (Canadian ?)Genre: Old Time  Style: ...   \n",
       "4608  Quince Dillon's High DGenre: Old Time  Style: ...   \n",
       "4609  Quince Dillon's High D TuneGenre: Old Time  St...   \n",
       "4610  Quinn's QuickstepGenre: Bluegrass  Style: Blue...   \n",
       "\n",
       "                                            search_html  \n",
       "0     <div class=\"row zebra rowPadded\"> <div class=\"...  \n",
       "1     <div class=\"row zebra rowPadded\"> <div class=\"...  \n",
       "2     <div class=\"row zebra rowPadded\"> <div class=\"...  \n",
       "3     <div class=\"row zebra rowPadded\"> <div class=\"...  \n",
       "4     <div class=\"row zebra rowPadded\"> <div class=\"...  \n",
       "...                                                 ...  \n",
       "4606  <div class=\"row zebra rowPadded\"> <div class=\"...  \n",
       "4607  <div class=\"row zebra rowPadded\"> <div class=\"...  \n",
       "4608  <div class=\"row zebra rowPadded\"> <div class=\"...  \n",
       "4609  <div class=\"row zebra rowPadded\"> <div class=\"...  \n",
       "4610  <div class=\"row zebra rowPadded\"> <div class=\"...  \n",
       "\n",
       "[4611 rows x 10 columns]"
      ]
     },
     "execution_count": 5,
     "metadata": {},
     "output_type": "execute_result"
    }
   ],
   "source": [
    "tabs"
   ]
  },
  {
   "cell_type": "code",
   "execution_count": 6,
   "id": "5c6278b8-4cb8-413b-8144-522b301e10f2",
   "metadata": {},
   "outputs": [
    {
     "data": {
      "text/plain": [
       "array(['Standard Open G (gDGBD)', 'Double C (gCGCD)', 'error', 'aDGBD',\n",
       "       'Sawmill (gDGCD)', 'Tenor G (DGdg)', 'Tenor Standard (CGDA)',\n",
       "       'Open Gm (gDGBbD)', 'Drop C (gCGBD)', 'Dm (aDFAD)',\n",
       "       'Open D (aDF#Ad)', 'Open D (f#DF#Ad)', 'Tenor Irish (GDAE)',\n",
       "       'Open C (gCGCE)', 'Chicago (DGBE)', 'Plectrum Standard (CGBD)',\n",
       "       'Cm (gCGCEb)', 'Tenor C (CGdg)'], dtype=object)"
      ]
     },
     "execution_count": 6,
     "metadata": {},
     "output_type": "execute_result"
    }
   ],
   "source": [
    "tabs['tuning'].unique()\n",
    "# results = []\n",
    "# for search in tabs.search_str.values:\n",
    "#     try:\n",
    "#         results.append(re.search(\"Genre: ([^yY]*)Style\", search).group(1).strip())\n",
    "#     except:\n",
    "#         results.append('error')\n",
    "# set(results)"
   ]
  },
  {
   "cell_type": "code",
   "execution_count": 7,
   "id": "a6a934af-9408-42f6-91f6-047adcee1816",
   "metadata": {},
   "outputs": [],
   "source": [
    "tabs['title_length'] = tabs.title.apply(lambda x: len(x))"
   ]
  },
  {
   "cell_type": "code",
   "execution_count": 8,
   "id": "e2cb4cee-98af-46dd-b718-518920d227b7",
   "metadata": {},
   "outputs": [
    {
     "data": {
      "text/plain": [
       "<AxesSubplot:>"
      ]
     },
     "execution_count": 8,
     "metadata": {},
     "output_type": "execute_result"
    },
    {
     "data": {
      "image/png": "[encoded data removed]",
      "text/plain": [
       "<Figure size 1000x650 with 1 Axes>"
      ]
     },
     "metadata": {
      "needs_background": "light"
     },
     "output_type": "display_data"
    }
   ],
   "source": [
    "tabs.title_length.value_counts().sort_values().plot.bar()"
   ]
  },
  {
   "cell_type": "code",
   "execution_count": 9,
   "id": "bf4953bb-8de3-45ac-88d3-390b8799347e",
   "metadata": {},
   "outputs": [
    {
     "data": {
      "text/plain": [
       "24           Jaw Bone (Pope's Arkasas Mountaineers, 1928)\n",
       "25             Jawbones (Jordan Am A Hard Road To Travel)\n",
       "51          Jerusalem Ridge - K. Baker / banjo solo in Em\n",
       "52              Jerusalem Ridge - K. Baker + banjo backup\n",
       "73      Jesu, Joy of Man's Desiring,By Pete Seeger him...\n",
       "                              ...                        \n",
       "4488      Why Don't You Tell Me So, as played by JD Crowe\n",
       "4506        Wild Mountain Thyme (Will ye go, lassie, go?)\n",
       "4521            Wildwood Flower - gEADE tuning clawhammer\n",
       "4524            Wildwood Flower (In G with jazzy changes)\n",
       "4605          Wrecking Ball - Mother Mother (Banjo Intro)\n",
       "Name: title, Length: 171, dtype: object"
      ]
     },
     "execution_count": 9,
     "metadata": {},
     "output_type": "execute_result"
    }
   ],
   "source": [
    "tabs[tabs['title_length'] > 40]['title']"
   ]
  },
  {
   "cell_type": "code",
   "execution_count": 10,
   "id": "ce2b4f5f-f644-4423-a616-b12d6fbfb435",
   "metadata": {},
   "outputs": [
    {
     "data": {
      "text/plain": [
       "0       https://www.hangoutstorage.com/banjohangout.or...\n",
       "1       https://www.hangoutstorage.com/banjohangout.or...\n",
       "2                                                   error\n",
       "3       https://www.hangoutstorage.com/banjohangout.or...\n",
       "4                                                   error\n",
       "                              ...                        \n",
       "4606                                                error\n",
       "4607                                                error\n",
       "4608    https://www.hangoutstorage.com/banjohangout.or...\n",
       "4609                                                error\n",
       "4610    https://www.hangoutstorage.com/banjohangout.or...\n",
       "Name: link, Length: 4611, dtype: object"
      ]
     },
     "execution_count": 10,
     "metadata": {},
     "output_type": "execute_result"
    }
   ],
   "source": [
    "tabs['link']"
   ]
  },
  {
   "cell_type": "code",
   "execution_count": 11,
   "id": "bc32e1c4-77b9-460a-b59f-93d472380cc8",
   "metadata": {},
   "outputs": [],
   "source": [
    "# Come up with a good file-name\n",
    "\n",
    "tabs['filename'] = tabs['title'].apply(lambda x: '_'.join((x.lower().replace('?','').replace('(', ' ').replace(')', ' ').strip().split()[0:5]))) + tabs['difficulty'].apply(lambda x: \"_\" + x.lower() if x.lower() != 'error' else '') "
   ]
  },
  {
   "cell_type": "code",
   "execution_count": 12,
   "id": "42ce9678-f6e8-48aa-99b1-b24368d381f8",
   "metadata": {},
   "outputs": [
    {
     "data": {
      "text/plain": [
       "error                                                                                                         2211\n",
       "https://www.hangoutstorage.com/banjohangout.org/storage/tabs/t/this_train-2306.tef                               2\n",
       "https://www.hangoutstorage.com/banjohangout.org/storage/tabs/t/tab-time-in-a-bottl-24465-749222972020.tef        2\n",
       "https://www.hangoutstorage.com/banjohangout.org/storage/tabs/t/tab-ticket-to-alvar-22183-321197102016.tef        2\n",
       "https://www.hangoutstorage.com/banjohangout.org/storage/tabs/t/tab-tico-tico-18062-131175122012.tef              2\n",
       "                                                                                                              ... \n",
       "https://www.hangoutstorage.com/banjohangout.org/storage/tabs/m/tab-my-funny-valent-16307-6531515112011.tef       1\n",
       "https://www.hangoutstorage.com/banjohangout.org/storage/tabs/m/tab-my-dixie-darlin-16942-1959932012.tef          1\n",
       "https://www.hangoutstorage.com/banjohangout.org/storage/tabs/m/tab-my-cabin-in-car-24753-941122822021.tef        1\n",
       "https://www.hangoutstorage.com/banjohangout.org/storage/tabs/m/tab-my-best-friend-19671-401854112013.tef         1\n",
       "https://www.hangoutstorage.com/banjohangout.org/storage/tabs/w/tab-wreck-on-the-hi-18192-1632912013.tef          1\n",
       "Name: link, Length: 1873, dtype: int64"
      ]
     },
     "execution_count": 12,
     "metadata": {},
     "output_type": "execute_result"
    }
   ],
   "source": [
    "tabs['link'].value_counts()"
   ]
  },
  {
   "cell_type": "code",
   "execution_count": 15,
   "id": "cebbb862-095c-4817-96ce-1e755612bff7",
   "metadata": {},
   "outputs": [],
   "source": [
    "valid_tabs = tabs[tabs['link'] != 'error']\n",
    "names = valid_tabs['filename'].unique()"
   ]
  },
  {
   "cell_type": "code",
   "execution_count": 23,
   "id": "0cfc838a-efe1-4d52-9c0e-62eb3c993bde",
   "metadata": {},
   "outputs": [
    {
     "name": "stdout",
     "output_type": "stream",
     "text": [
      "j'attendrai_expert_000.tef\n",
      "https://www.hangoutstorage.com/banjohangout.org/storage/tabs/j/tab-jattendrai-12184-5156199112009.tef\n"
     ]
    }
   ],
   "source": [
    "for name in names:\n",
    "    for idx, (row_idx, row) in enumerate(valid_tabs[valid_tabs['filename'] == name].iterrows()):\n",
    "        download_link = row.loc['link']\n",
    "        file_prefix = row.loc['filename']\n",
    "        outfile = f\"{file_prefix}_{idx:03d}.tef\"\n",
    "        print(outfile)\n",
    "        print(download_link)\n",
    "        break\n",
    "    break"
   ]
  },
  {
   "cell_type": "code",
   "execution_count": null,
   "id": "4d681d1c-c790-42cc-9bfa-f80531037ff9",
   "metadata": {},
   "outputs": [],
   "source": []
  },
  {
   "cell_type": "code",
   "execution_count": 34,
   "id": "6ac54d60-e8b2-4f8e-82e8-6039d6b18073",
   "metadata": {},
   "outputs": [],
   "source": [
    "# Come up with a good file-name\n",
    "\n",
    "raw['filename'] = raw['title'].apply(lambda x: '_'.join((x.lower().replace('?','').replace('(', ' ').replace(')', ' ').strip().split()[0:5]))) + raw['difficulty'].apply(lambda x: \"_\" + x.lower() if x.lower() != 'error' else '') "
   ]
  },
  {
   "cell_type": "code",
   "execution_count": null,
   "id": "f6e8e367-1495-4961-a7cc-0616cc63c5c0",
   "metadata": {},
   "outputs": [],
   "source": []
  }
 ],
 "metadata": {
  "kernelspec": {
   "display_name": "Python 3 (ipykernel)",
   "language": "python",
   "name": "python3"
  },
  "language_info": {
   "codemirror_mode": {
    "name": "ipython",
    "version": 3
   },
   "file_extension": ".py",
   "mimetype": "text/x-python",
   "name": "python",
   "nbconvert_exporter": "python",
   "pygments_lexer": "ipython3",
   "version": "3.9.6"
  }
 },
 "nbformat": 4,
 "nbformat_minor": 5
}
